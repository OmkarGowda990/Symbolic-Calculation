{
  "nbformat": 4,
  "nbformat_minor": 0,
  "metadata": {
    "colab": {
      "provenance": []
    },
    "kernelspec": {
      "name": "python3",
      "display_name": "Python 3"
    },
    "language_info": {
      "name": "python"
    }
  },
  "cells": [
    {
      "cell_type": "markdown",
      "source": [
        "# Symbolic Calculation Project"
      ],
      "metadata": {
        "id": "zz-AcTnJXRsD"
      }
    },
    {
      "cell_type": "markdown",
      "source": [
        "Dataset Preperation"
      ],
      "metadata": {
        "id": "F3WhGPZpYTT2"
      }
    },
    {
      "cell_type": "code",
      "source": [
        "#testing Taylor expansion on sin(x)\n",
        "from sympy import *\n",
        "x = Symbol('x')\n",
        "f = sin(x)\n",
        "series(f, x0=0, n=4).removeO()"
      ],
      "metadata": {
        "colab": {
          "base_uri": "https://localhost:8080/",
          "height": 54
        },
        "id": "wzP9bAlrccrK",
        "outputId": "f57548b9-e602-4c40-d17b-27c3dc0190b0"
      },
      "execution_count": 25,
      "outputs": [
        {
          "output_type": "execute_result",
          "data": {
            "text/plain": [
              "-x**3/6 + x"
            ],
            "text/latex": "$\\displaystyle - \\frac{x^{3}}{6} + x$"
          },
          "metadata": {},
          "execution_count": 25
        }
      ]
    },
    {
      "cell_type": "code",
      "source": [
        "# Defining the functions for dataset\n",
        "funcs = [sin, cos, tan, tanh, exp, log, sqrt, acos, acosh, acot, acoth, asin, asinh, atan, atanh, cosh, cot, coth, csc, csch, sec, sech, sign, sinc, sinh]"
      ],
      "metadata": {
        "id": "Zj6xgYiJfO4d"
      },
      "execution_count": 26,
      "outputs": []
    },
    {
      "cell_type": "code",
      "source": [
        "#Creating list of functions\n",
        "functions = []\n",
        "for func in funcs:\n",
        "  x = Symbol('x')\n",
        "  functions.append(func(x))\n",
        "\n",
        "#creating list corresponding Taylor expansion using sympy library\n",
        "taylor_expansion = []\n",
        "for i in functions:\n",
        "  taylor_expansion.append(series(i, x0=0, n=4).removeO())"
      ],
      "metadata": {
        "id": "UqXgnveUgEsE"
      },
      "execution_count": 27,
      "outputs": []
    },
    {
      "cell_type": "code",
      "source": [
        "import pandas as pd\n",
        "# create a dataframe from the two list\n",
        "df = pd.DataFrame({\"Functions\": functions, \"Expansion\": taylor_expansion})"
      ],
      "metadata": {
        "id": "wUIBnmutBvpT"
      },
      "execution_count": 35,
      "outputs": []
    },
    {
      "cell_type": "code",
      "source": [
        "#saved as a txt file\n",
        "df.to_csv(r'dataset.txt')"
      ],
      "metadata": {
        "id": "2jbVdCIVCa4p"
      },
      "execution_count": 34,
      "outputs": []
    }
  ]
}