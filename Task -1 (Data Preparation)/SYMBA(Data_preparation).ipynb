{
  "nbformat": 4,
  "nbformat_minor": 0,
  "metadata": {
    "colab": {
      "provenance": []
    },
    "kernelspec": {
      "name": "python3",
      "display_name": "Python 3"
    },
    "language_info": {
      "name": "python"
    }
  },
  "cells": [
    {
      "cell_type": "markdown",
      "source": [
        "## Symbolic Calculation Project"
      ],
      "metadata": {
        "id": "zz-AcTnJXRsD"
      }
    },
    {
      "cell_type": "markdown",
      "source": [
        "### Dataset Preperation"
      ],
      "metadata": {
        "id": "F3WhGPZpYTT2"
      }
    },
    {
      "cell_type": "code",
      "source": [
        "#testing Taylor expansion on sin(x)\n",
        "from sympy import *\n",
        "x = Symbol('x')\n",
        "f = sin(x)\n",
        "series(f, x0=0, n=4).removeO()"
      ],
      "metadata": {
        "colab": {
          "base_uri": "https://localhost:8080/",
          "height": 54
        },
        "id": "wzP9bAlrccrK",
        "outputId": "d2f0a301-7e01-45b7-afa1-0a21b4885295"
      },
      "execution_count": 8,
      "outputs": [
        {
          "output_type": "execute_result",
          "data": {
            "text/plain": [
              "-x**3/6 + x"
            ],
            "text/latex": "$\\displaystyle - \\frac{x^{3}}{6} + x$"
          },
          "metadata": {},
          "execution_count": 8
        }
      ]
    },
    {
      "cell_type": "code",
      "source": [
        "# Defining the functions for dataset\n",
        "funcs = [sin, cos, tan, exp, log, sqrt]"
      ],
      "metadata": {
        "id": "Zj6xgYiJfO4d"
      },
      "execution_count": 9,
      "outputs": []
    },
    {
      "cell_type": "code",
      "source": [
        "#Creating list of functions\n",
        "functions = []\n",
        "for func in funcs:\n",
        "  x = Symbol('x')\n",
        "  functions.append(func(x))\n",
        "\n",
        "#creating list corresponding Taylor expansion using sympy library\n",
        "taylor_expansion = []\n",
        "for i in functions:\n",
        "  taylor_expansion.append(series(i, x0=0, n=4).removeO())"
      ],
      "metadata": {
        "id": "UqXgnveUgEsE"
      },
      "execution_count": 10,
      "outputs": []
    },
    {
      "cell_type": "code",
      "source": [
        "import pandas as pd\n",
        "# create a dataframe from the two list\n",
        "df = pd.DataFrame({\"Functions\": functions, \"Expansion\": taylor_expansion})"
      ],
      "metadata": {
        "id": "wUIBnmutBvpT"
      },
      "execution_count": 11,
      "outputs": []
    },
    {
      "cell_type": "code",
      "source": [
        "#saved as a txt file\n",
        "df.to_csv(r'dataset.txt', index=None)"
      ],
      "metadata": {
        "id": "2jbVdCIVCa4p"
      },
      "execution_count": 12,
      "outputs": []
    },
    {
      "cell_type": "markdown",
      "source": [
        "### Tokenizing dataset"
      ],
      "metadata": {
        "id": "xP7751Muahp9"
      }
    },
    {
      "cell_type": "code",
      "source": [
        "df['Functions']"
      ],
      "metadata": {
        "colab": {
          "base_uri": "https://localhost:8080/"
        },
        "id": "oSTQdV4-af3N",
        "outputId": "a77dc659-fa0a-41f9-cfc1-18761599f71d"
      },
      "execution_count": 13,
      "outputs": [
        {
          "output_type": "execute_result",
          "data": {
            "text/plain": [
              "0     sin(x)\n",
              "1     cos(x)\n",
              "2     tan(x)\n",
              "3     exp(x)\n",
              "4     log(x)\n",
              "5    sqrt(x)\n",
              "Name: Functions, dtype: object"
            ]
          },
          "metadata": {},
          "execution_count": 13
        }
      ]
    },
    {
      "cell_type": "code",
      "source": [
        "# import tensorflow as tf\n",
        "\n",
        "# # Create a TextVectorization layer object\n",
        "# vectorizer = tf.keras.layers.TextVectorization()\n",
        "\n",
        "# # Tokenize the trigonometric functions\n",
        "# vectorizer.adapt([str(func) for func in df.Functions])\n",
        "\n",
        "# # Print the resulting vocabulary\n",
        "# print(vectorizer.get_vocabulary())"
      ],
      "metadata": {
        "id": "vCiA8ojNbx-a"
      },
      "execution_count": 14,
      "outputs": []
    },
    {
      "cell_type": "code",
      "source": [
        "import numpy as np\n",
        "\n",
        "expansions = []\n",
        "for expansion in df['Expansion']:\n",
        "  tokens = np.array(str(expansion).replace(' ', '').replace('**', '^').split(' '))\n",
        "  expansions.append(tokens)"
      ],
      "metadata": {
        "id": "UXK1gksYn8am"
      },
      "execution_count": 15,
      "outputs": []
    },
    {
      "cell_type": "code",
      "source": [
        "final_dataset = pd.DataFrame({'Functions': df['Functions'], 'Expansion': expansions})"
      ],
      "metadata": {
        "id": "aT9rCJH2Wq8W"
      },
      "execution_count": 20,
      "outputs": []
    },
    {
      "cell_type": "code",
      "source": [
        "final_dataset"
      ],
      "metadata": {
        "colab": {
          "base_uri": "https://localhost:8080/",
          "height": 237
        },
        "id": "1QLArtyPXcpt",
        "outputId": "0882b194-9f3e-40ba-b048-323c2a6875a0"
      },
      "execution_count": 21,
      "outputs": [
        {
          "output_type": "execute_result",
          "data": {
            "text/plain": [
              "  Functions          Expansion\n",
              "0    sin(x)         [-x^3/6+x]\n",
              "1    cos(x)          [1-x^2/2]\n",
              "2    tan(x)          [x^3/3+x]\n",
              "3    exp(x)  [x^3/6+x^2/2+x+1]\n",
              "4    log(x)           [log(x)]\n",
              "5   sqrt(x)          [sqrt(x)]"
            ],
            "text/html": [
              "\n",
              "  <div id=\"df-9b22f3f9-e0b4-41b6-a5c1-6b09db0ce900\">\n",
              "    <div class=\"colab-df-container\">\n",
              "      <div>\n",
              "<style scoped>\n",
              "    .dataframe tbody tr th:only-of-type {\n",
              "        vertical-align: middle;\n",
              "    }\n",
              "\n",
              "    .dataframe tbody tr th {\n",
              "        vertical-align: top;\n",
              "    }\n",
              "\n",
              "    .dataframe thead th {\n",
              "        text-align: right;\n",
              "    }\n",
              "</style>\n",
              "<table border=\"1\" class=\"dataframe\">\n",
              "  <thead>\n",
              "    <tr style=\"text-align: right;\">\n",
              "      <th></th>\n",
              "      <th>Functions</th>\n",
              "      <th>Expansion</th>\n",
              "    </tr>\n",
              "  </thead>\n",
              "  <tbody>\n",
              "    <tr>\n",
              "      <th>0</th>\n",
              "      <td>sin(x)</td>\n",
              "      <td>[-x^3/6+x]</td>\n",
              "    </tr>\n",
              "    <tr>\n",
              "      <th>1</th>\n",
              "      <td>cos(x)</td>\n",
              "      <td>[1-x^2/2]</td>\n",
              "    </tr>\n",
              "    <tr>\n",
              "      <th>2</th>\n",
              "      <td>tan(x)</td>\n",
              "      <td>[x^3/3+x]</td>\n",
              "    </tr>\n",
              "    <tr>\n",
              "      <th>3</th>\n",
              "      <td>exp(x)</td>\n",
              "      <td>[x^3/6+x^2/2+x+1]</td>\n",
              "    </tr>\n",
              "    <tr>\n",
              "      <th>4</th>\n",
              "      <td>log(x)</td>\n",
              "      <td>[log(x)]</td>\n",
              "    </tr>\n",
              "    <tr>\n",
              "      <th>5</th>\n",
              "      <td>sqrt(x)</td>\n",
              "      <td>[sqrt(x)]</td>\n",
              "    </tr>\n",
              "  </tbody>\n",
              "</table>\n",
              "</div>\n",
              "      <button class=\"colab-df-convert\" onclick=\"convertToInteractive('df-9b22f3f9-e0b4-41b6-a5c1-6b09db0ce900')\"\n",
              "              title=\"Convert this dataframe to an interactive table.\"\n",
              "              style=\"display:none;\">\n",
              "        \n",
              "  <svg xmlns=\"http://www.w3.org/2000/svg\" height=\"24px\"viewBox=\"0 0 24 24\"\n",
              "       width=\"24px\">\n",
              "    <path d=\"M0 0h24v24H0V0z\" fill=\"none\"/>\n",
              "    <path d=\"M18.56 5.44l.94 2.06.94-2.06 2.06-.94-2.06-.94-.94-2.06-.94 2.06-2.06.94zm-11 1L8.5 8.5l.94-2.06 2.06-.94-2.06-.94L8.5 2.5l-.94 2.06-2.06.94zm10 10l.94 2.06.94-2.06 2.06-.94-2.06-.94-.94-2.06-.94 2.06-2.06.94z\"/><path d=\"M17.41 7.96l-1.37-1.37c-.4-.4-.92-.59-1.43-.59-.52 0-1.04.2-1.43.59L10.3 9.45l-7.72 7.72c-.78.78-.78 2.05 0 2.83L4 21.41c.39.39.9.59 1.41.59.51 0 1.02-.2 1.41-.59l7.78-7.78 2.81-2.81c.8-.78.8-2.07 0-2.86zM5.41 20L4 18.59l7.72-7.72 1.47 1.35L5.41 20z\"/>\n",
              "  </svg>\n",
              "      </button>\n",
              "      \n",
              "  <style>\n",
              "    .colab-df-container {\n",
              "      display:flex;\n",
              "      flex-wrap:wrap;\n",
              "      gap: 12px;\n",
              "    }\n",
              "\n",
              "    .colab-df-convert {\n",
              "      background-color: #E8F0FE;\n",
              "      border: none;\n",
              "      border-radius: 50%;\n",
              "      cursor: pointer;\n",
              "      display: none;\n",
              "      fill: #1967D2;\n",
              "      height: 32px;\n",
              "      padding: 0 0 0 0;\n",
              "      width: 32px;\n",
              "    }\n",
              "\n",
              "    .colab-df-convert:hover {\n",
              "      background-color: #E2EBFA;\n",
              "      box-shadow: 0px 1px 2px rgba(60, 64, 67, 0.3), 0px 1px 3px 1px rgba(60, 64, 67, 0.15);\n",
              "      fill: #174EA6;\n",
              "    }\n",
              "\n",
              "    [theme=dark] .colab-df-convert {\n",
              "      background-color: #3B4455;\n",
              "      fill: #D2E3FC;\n",
              "    }\n",
              "\n",
              "    [theme=dark] .colab-df-convert:hover {\n",
              "      background-color: #434B5C;\n",
              "      box-shadow: 0px 1px 3px 1px rgba(0, 0, 0, 0.15);\n",
              "      filter: drop-shadow(0px 1px 2px rgba(0, 0, 0, 0.3));\n",
              "      fill: #FFFFFF;\n",
              "    }\n",
              "  </style>\n",
              "\n",
              "      <script>\n",
              "        const buttonEl =\n",
              "          document.querySelector('#df-9b22f3f9-e0b4-41b6-a5c1-6b09db0ce900 button.colab-df-convert');\n",
              "        buttonEl.style.display =\n",
              "          google.colab.kernel.accessAllowed ? 'block' : 'none';\n",
              "\n",
              "        async function convertToInteractive(key) {\n",
              "          const element = document.querySelector('#df-9b22f3f9-e0b4-41b6-a5c1-6b09db0ce900');\n",
              "          const dataTable =\n",
              "            await google.colab.kernel.invokeFunction('convertToInteractive',\n",
              "                                                     [key], {});\n",
              "          if (!dataTable) return;\n",
              "\n",
              "          const docLinkHtml = 'Like what you see? Visit the ' +\n",
              "            '<a target=\"_blank\" href=https://colab.research.google.com/notebooks/data_table.ipynb>data table notebook</a>'\n",
              "            + ' to learn more about interactive tables.';\n",
              "          element.innerHTML = '';\n",
              "          dataTable['output_type'] = 'display_data';\n",
              "          await google.colab.output.renderOutput(dataTable, element);\n",
              "          const docLink = document.createElement('div');\n",
              "          docLink.innerHTML = docLinkHtml;\n",
              "          element.appendChild(docLink);\n",
              "        }\n",
              "      </script>\n",
              "    </div>\n",
              "  </div>\n",
              "  "
            ]
          },
          "metadata": {},
          "execution_count": 21
        }
      ]
    },
    {
      "cell_type": "code",
      "source": [
        "final_dataset.to_csv('dataset.txt', indes = None)"
      ],
      "metadata": {
        "colab": {
          "base_uri": "https://localhost:8080/",
          "height": 167
        },
        "id": "5gIuvoVPXuU4",
        "outputId": "86282a1c-ca43-4512-8d51-2a86aa695fb3"
      },
      "execution_count": 22,
      "outputs": [
        {
          "output_type": "error",
          "ename": "TypeError",
          "evalue": "ignored",
          "traceback": [
            "\u001b[0;31m---------------------------------------------------------------------------\u001b[0m",
            "\u001b[0;31mTypeError\u001b[0m                                 Traceback (most recent call last)",
            "\u001b[0;32m<ipython-input-22-f80f6de5ffd0>\u001b[0m in \u001b[0;36m<module>\u001b[0;34m\u001b[0m\n\u001b[0;32m----> 1\u001b[0;31m \u001b[0mfinal_dataset\u001b[0m\u001b[0;34m.\u001b[0m\u001b[0mto_csv\u001b[0m\u001b[0;34m(\u001b[0m\u001b[0;34m'dataset.txt'\u001b[0m\u001b[0;34m,\u001b[0m \u001b[0mindes\u001b[0m \u001b[0;34m=\u001b[0m \u001b[0;32mNone\u001b[0m\u001b[0;34m)\u001b[0m\u001b[0;34m\u001b[0m\u001b[0;34m\u001b[0m\u001b[0m\n\u001b[0m",
            "\u001b[0;31mTypeError\u001b[0m: to_csv() got an unexpected keyword argument 'indes'"
          ]
        }
      ]
    },
    {
      "cell_type": "code",
      "source": [],
      "metadata": {
        "id": "S6fzAYhDX5cf"
      },
      "execution_count": null,
      "outputs": []
    }
  ]
}